{
  "nbformat": 4,
  "nbformat_minor": 0,
  "metadata": {
    "colab": {
      "provenance": [],
      "authorship_tag": "ABX9TyOOWP0mGt8QQKKLgYs/KC34",
      "include_colab_link": true
    },
    "kernelspec": {
      "name": "python3",
      "display_name": "Python 3"
    },
    "language_info": {
      "name": "python"
    }
  },
  "cells": [
    {
      "cell_type": "markdown",
      "metadata": {
        "id": "view-in-github",
        "colab_type": "text"
      },
      "source": [
        "<a href=\"https://colab.research.google.com/github/Afag-Ramazanova/Cloud-Hosted-Notebook-Data-Manipulation/blob/main/main.ipynb\" target=\"_parent\"><img src=\"https://colab.research.google.com/assets/colab-badge.svg\" alt=\"Open In Colab\"/></a>"
      ]
    },
    {
      "cell_type": "code",
      "execution_count": null,
      "metadata": {
        "id": "9wP6q5X7_mDQ"
      },
      "outputs": [],
      "source": [
        "from mylib.lib import (\n",
        "    get_data,\n",
        "    get_mean,\n",
        "    get_median,\n",
        "    summary,\n",
        "    vizualisation,\n",
        "    create_histogram,\n",
        "    correlation_matrix)\n",
        "\n",
        "sns.set_style('whitegrid')"
      ]
    }
  ]
}